{
  "cells": [
    {
      "cell_type": "code",
      "execution_count": null,
      "metadata": {
        "id": "Yzg0jnV7dHTp"
      },
      "outputs": [],
      "source": [
        "!pip install buildozer"
      ]
    },
    {
      "cell_type": "code",
      "execution_count": null,
      "metadata": {
        "id": "XX3isEFydNar"
      },
      "outputs": [],
      "source": [
        "!pip install cython==0.29.21"
      ]
    },
    {
      "cell_type": "code",
      "execution_count": null,
      "metadata": {
        "id": "QZRYW9UvdcDt"
      },
      "outputs": [],
      "source": [
        "!sudo apt-get install -y python3-pip build-essential git python3 python3-dev ffmpeg libsdl2-dev libsdl2-image-dev libsdl2-mixer-dev libsdl2-ttf-dev libportmidi-dev libswscale-dev libavformat-dev libavcodec-dev zlib1g-dev"
      ]
    },
    {
      "cell_type": "code",
      "execution_count": null,
      "metadata": {
        "id": "S9Z7KfTOnXuZ"
      },
      "outputs": [],
      "source": [
        "!sudo apt-get install -y libgstreamer1.0, gstreamer1.0-plugins-base, gstreamer1.0-plugins-good"
      ]
    },
    {
      "cell_type": "code",
      "execution_count": null,
      "metadata": {
        "id": "Gjp7v6bTnd5V"
      },
      "outputs": [],
      "source": [
        "!sudo apt-get install build-essential libsqlite3-dev sqlite3 bzip2 libbz2-dev zlib1g-dev libssl-dev openssl libgdbm-dev libgdbm-compat-dev liblzma-dev libreadline-dev libncursesw5-dev libffi-dev uuid-dev libffi6"
      ]
    },
    {
      "cell_type": "code",
      "execution_count": null,
      "metadata": {
        "id": "DA3BNyuKnrI1"
      },
      "outputs": [],
      "source": [
        "!sudo apt-get install libffi-dev"
      ]
    },
    {
      "cell_type": "code",
      "execution_count": null,
      "metadata": {
        "id": "EeTysn9dntOO"
      },
      "outputs": [],
      "source": [
        "!buildozer init"
      ]
    },
    {
      "cell_type": "code",
      "execution_count": null,
      "metadata": {
        "id": "tLbircO10N0a"
      },
      "outputs": [],
      "source": [
        "!buildozer -v android debug"
      ]
    },
    {
      "cell_type": "code",
      "execution_count": null,
      "metadata": {
        "id": "YZPSi3j4oweu"
      },
      "outputs": [],
      "source": [
        "!buildozer android clean"
      ]
    },
    {
      "cell_type": "code",
      "execution_count": null,
      "metadata": {
        "id": "wyVLXEgJFeqv"
      },
      "outputs": [],
      "source": []
    }
  ],
  "metadata": {
    "colab": {
      "name": "KivyApp to APK.ipynb",
      "provenance": []
    },
    "kernelspec": {
      "display_name": "Python 3",
      "name": "python3"
    }
  },
  "nbformat": 4,
  "nbformat_minor": 0
}
